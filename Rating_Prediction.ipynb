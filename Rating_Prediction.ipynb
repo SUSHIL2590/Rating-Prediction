{
 "cells": [
  {
   "cell_type": "markdown",
   "id": "23f44fdb",
   "metadata": {},
   "source": [
    "# Importing Libraries"
   ]
  },
  {
   "cell_type": "code",
   "execution_count": 15,
   "id": "3394ea4f",
   "metadata": {},
   "outputs": [],
   "source": [
    "# Preprocessing\n",
    "import numpy as np\n",
    "import pandas as pd\n",
    "\n",
    "# Visualization\n",
    "import seaborn as sns\n",
    "import matplotlib.pyplot as plt\n",
    "import os\n",
    "import scipy as stats\n",
    "\n",
    "# To remove outliers\n",
    "from scipy.stats import zscore\n",
    "\n",
    "#importing nltk libraries\n",
    "import nltk\n",
    "from nltk.corpus import stopwords\n",
    "import re\n",
    "import string\n",
    "from nltk import FreqDist\n",
    "from nltk.tokenize import word_tokenize\n",
    "from nltk.stem.wordnet import WordNetLemmatizer\n",
    "from nltk.corpus import wordnet\n",
    "from nltk import FreqDist\n",
    "\n",
    "# Evaluation Metrics\n",
    "from sklearn import metrics\n",
    "from sklearn.model_selection import cross_val_score\n",
    "from sklearn.model_selection import train_test_split\n",
    "from sklearn.metrics import classification_report,confusion_matrix\n",
    "from sklearn.metrics import roc_curve,accuracy_score,roc_auc_score,hamming_loss, log_loss\n",
    "\n",
    "# Warning\n",
    "import warnings\n",
    "%matplotlib inline\n",
    "warnings.filterwarnings('ignore')"
   ]
  },
  {
   "cell_type": "markdown",
   "id": "f6700e76",
   "metadata": {},
   "source": [
    "# Importing Scrapped Dataset:"
   ]
  },
  {
   "cell_type": "code",
   "execution_count": 16,
   "id": "10c69f7e",
   "metadata": {},
   "outputs": [
    {
     "data": {
      "text/html": [
       "<div>\n",
       "<style scoped>\n",
       "    .dataframe tbody tr th:only-of-type {\n",
       "        vertical-align: middle;\n",
       "    }\n",
       "\n",
       "    .dataframe tbody tr th {\n",
       "        vertical-align: top;\n",
       "    }\n",
       "\n",
       "    .dataframe thead th {\n",
       "        text-align: right;\n",
       "    }\n",
       "</style>\n",
       "<table border=\"1\" class=\"dataframe\">\n",
       "  <thead>\n",
       "    <tr style=\"text-align: right;\">\n",
       "      <th></th>\n",
       "      <th>Unnamed: 0</th>\n",
       "      <th>Review_Title</th>\n",
       "      <th>Reiew_Text</th>\n",
       "      <th>Ratings</th>\n",
       "    </tr>\n",
       "  </thead>\n",
       "  <tbody>\n",
       "    <tr>\n",
       "      <th>0</th>\n",
       "      <td>0</td>\n",
       "      <td>Perfect product!</td>\n",
       "      <td>Beautiful laptop with affordable price at flip...</td>\n",
       "      <td>5</td>\n",
       "    </tr>\n",
       "    <tr>\n",
       "      <th>1</th>\n",
       "      <td>1</td>\n",
       "      <td>Classy product</td>\n",
       "      <td>Absolutely Satisfied by the product . Speciall...</td>\n",
       "      <td>5</td>\n",
       "    </tr>\n",
       "    <tr>\n",
       "      <th>2</th>\n",
       "      <td>2</td>\n",
       "      <td>Fabulous!</td>\n",
       "      <td>Amazing laptop.\\ncreater laptop.\\nMid range ga...</td>\n",
       "      <td>5</td>\n",
       "    </tr>\n",
       "    <tr>\n",
       "      <th>3</th>\n",
       "      <td>3</td>\n",
       "      <td>Classy product</td>\n",
       "      <td>Laptop is all good. I got it for 72990. If you...</td>\n",
       "      <td>5</td>\n",
       "    </tr>\n",
       "    <tr>\n",
       "      <th>4</th>\n",
       "      <td>4</td>\n",
       "      <td>Awesome</td>\n",
       "      <td>Good for office work, productivity works and c...</td>\n",
       "      <td>5</td>\n",
       "    </tr>\n",
       "    <tr>\n",
       "      <th>...</th>\n",
       "      <td>...</td>\n",
       "      <td>...</td>\n",
       "      <td>...</td>\n",
       "      <td>...</td>\n",
       "    </tr>\n",
       "    <tr>\n",
       "      <th>20746</th>\n",
       "      <td>20746</td>\n",
       "      <td>Nice product</td>\n",
       "      <td>Product is good for the price but have mainly ...</td>\n",
       "      <td>4</td>\n",
       "    </tr>\n",
       "    <tr>\n",
       "      <th>20747</th>\n",
       "      <td>20747</td>\n",
       "      <td>Terrific</td>\n",
       "      <td>Awesome, purchased it and did not regret a bit</td>\n",
       "      <td>5</td>\n",
       "    </tr>\n",
       "    <tr>\n",
       "      <th>20748</th>\n",
       "      <td>20748</td>\n",
       "      <td>Perfect product!</td>\n",
       "      <td>Display quality is very good budget gaming mon...</td>\n",
       "      <td>5</td>\n",
       "    </tr>\n",
       "    <tr>\n",
       "      <th>20749</th>\n",
       "      <td>20749</td>\n",
       "      <td>Terrific</td>\n",
       "      <td>Awesome, purchased it and did not regret a bit</td>\n",
       "      <td>5</td>\n",
       "    </tr>\n",
       "    <tr>\n",
       "      <th>20750</th>\n",
       "      <td>20750</td>\n",
       "      <td>Perfect product!</td>\n",
       "      <td>Display quality is very good budget gaming mon...</td>\n",
       "      <td>5</td>\n",
       "    </tr>\n",
       "  </tbody>\n",
       "</table>\n",
       "<p>20751 rows × 4 columns</p>\n",
       "</div>"
      ],
      "text/plain": [
       "       Unnamed: 0      Review_Title  \\\n",
       "0               0  Perfect product!   \n",
       "1               1    Classy product   \n",
       "2               2         Fabulous!   \n",
       "3               3    Classy product   \n",
       "4               4           Awesome   \n",
       "...           ...               ...   \n",
       "20746       20746      Nice product   \n",
       "20747       20747          Terrific   \n",
       "20748       20748  Perfect product!   \n",
       "20749       20749          Terrific   \n",
       "20750       20750  Perfect product!   \n",
       "\n",
       "                                              Reiew_Text  Ratings  \n",
       "0      Beautiful laptop with affordable price at flip...        5  \n",
       "1      Absolutely Satisfied by the product . Speciall...        5  \n",
       "2      Amazing laptop.\\ncreater laptop.\\nMid range ga...        5  \n",
       "3      Laptop is all good. I got it for 72990. If you...        5  \n",
       "4      Good for office work, productivity works and c...        5  \n",
       "...                                                  ...      ...  \n",
       "20746  Product is good for the price but have mainly ...        4  \n",
       "20747     Awesome, purchased it and did not regret a bit        5  \n",
       "20748  Display quality is very good budget gaming mon...        5  \n",
       "20749     Awesome, purchased it and did not regret a bit        5  \n",
       "20750  Display quality is very good budget gaming mon...        5  \n",
       "\n",
       "[20751 rows x 4 columns]"
      ]
     },
     "execution_count": 16,
     "metadata": {},
     "output_type": "execute_result"
    }
   ],
   "source": [
    "#Reading csv file \n",
    "df = pd.read_csv(\"flipkrt1_reviews.csv\")\n",
    "df"
   ]
  },
  {
   "cell_type": "markdown",
   "id": "befa0574",
   "metadata": {},
   "source": [
    "This dataset contains 20751 rows and 4 columns.\n",
    "The column conatins following informations.\n",
    "\n",
    "Review_Title : Title of the Review.\n",
    "    \n",
    "Review_Text : Text Content of the Review.\n",
    "    \n",
    "Ratings : Ratings out of 5 stars."
   ]
  },
  {
   "cell_type": "markdown",
   "id": "b1bc2ec4",
   "metadata": {},
   "source": [
    "# Exploratory Data Analysis [EDA]:"
   ]
  },
  {
   "cell_type": "markdown",
   "id": "031924fd",
   "metadata": {},
   "source": [
    "Since Unnamed: 0 is the index column of csv file so let's drop that column as it will not help us in our predictions."
   ]
  },
  {
   "cell_type": "code",
   "execution_count": 17,
   "id": "7c031b00",
   "metadata": {},
   "outputs": [],
   "source": [
    "# Dropping unnecessary column\n",
    "df.drop(columns = 'Unnamed: 0',inplace = True)\n",
    "df.drop(columns = 'Review_Title',inplace = True)"
   ]
  },
  {
   "cell_type": "code",
   "execution_count": 18,
   "id": "ca7048a1",
   "metadata": {},
   "outputs": [
    {
     "name": "stdout",
     "output_type": "stream",
     "text": [
      "So after dropping index column there are 20751 Rows and 2 Columns in the dataset\n"
     ]
    }
   ],
   "source": [
    "# Checking the shape of the dataset\n",
    "print(\"So after dropping index column there are {} Rows and {} Columns in the dataset\".format(df.shape[0], df.shape[1]))"
   ]
  },
  {
   "cell_type": "code",
   "execution_count": 26,
   "id": "1e6ad3b6",
   "metadata": {},
   "outputs": [
    {
     "data": {
      "text/html": [
       "<div>\n",
       "<style scoped>\n",
       "    .dataframe tbody tr th:only-of-type {\n",
       "        vertical-align: middle;\n",
       "    }\n",
       "\n",
       "    .dataframe tbody tr th {\n",
       "        vertical-align: top;\n",
       "    }\n",
       "\n",
       "    .dataframe thead th {\n",
       "        text-align: right;\n",
       "    }\n",
       "</style>\n",
       "<table border=\"1\" class=\"dataframe\">\n",
       "  <thead>\n",
       "    <tr style=\"text-align: right;\">\n",
       "      <th></th>\n",
       "      <th>Reiew_Text</th>\n",
       "      <th>Ratings</th>\n",
       "    </tr>\n",
       "  </thead>\n",
       "  <tbody>\n",
       "    <tr>\n",
       "      <th>0</th>\n",
       "      <td>Beautiful laptop with affordable price at flip...</td>\n",
       "      <td>5</td>\n",
       "    </tr>\n",
       "    <tr>\n",
       "      <th>1</th>\n",
       "      <td>Absolutely Satisfied by the product . Speciall...</td>\n",
       "      <td>5</td>\n",
       "    </tr>\n",
       "    <tr>\n",
       "      <th>2</th>\n",
       "      <td>Amazing laptop.\\ncreater laptop.\\nMid range ga...</td>\n",
       "      <td>5</td>\n",
       "    </tr>\n",
       "    <tr>\n",
       "      <th>3</th>\n",
       "      <td>Laptop is all good. I got it for 72990. If you...</td>\n",
       "      <td>5</td>\n",
       "    </tr>\n",
       "    <tr>\n",
       "      <th>4</th>\n",
       "      <td>Good for office work, productivity works and c...</td>\n",
       "      <td>5</td>\n",
       "    </tr>\n",
       "  </tbody>\n",
       "</table>\n",
       "</div>"
      ],
      "text/plain": [
       "                                          Reiew_Text  Ratings\n",
       "0  Beautiful laptop with affordable price at flip...        5\n",
       "1  Absolutely Satisfied by the product . Speciall...        5\n",
       "2  Amazing laptop.\\ncreater laptop.\\nMid range ga...        5\n",
       "3  Laptop is all good. I got it for 72990. If you...        5\n",
       "4  Good for office work, productivity works and c...        5"
      ]
     },
     "execution_count": 26,
     "metadata": {},
     "output_type": "execute_result"
    }
   ],
   "source": [
    "df.head(5)"
   ]
  },
  {
   "cell_type": "code",
   "execution_count": 19,
   "id": "4883436f",
   "metadata": {},
   "outputs": [
    {
     "name": "stdout",
     "output_type": "stream",
     "text": [
      "Columns present in the dataset are:\n",
      " Index(['Reiew_Text', 'Ratings'], dtype='object')\n"
     ]
    }
   ],
   "source": [
    "# Checking the column names in the dataset\n",
    "print(\"Columns present in the dataset are:\\n\",df.columns)"
   ]
  },
  {
   "cell_type": "code",
   "execution_count": 20,
   "id": "53a991aa",
   "metadata": {},
   "outputs": [
    {
     "name": "stdout",
     "output_type": "stream",
     "text": [
      "<class 'pandas.core.frame.DataFrame'>\n",
      "RangeIndex: 20751 entries, 0 to 20750\n",
      "Data columns (total 2 columns):\n",
      " #   Column      Non-Null Count  Dtype \n",
      "---  ------      --------------  ----- \n",
      " 0   Reiew_Text  20751 non-null  object\n",
      " 1   Ratings     20751 non-null  int64 \n",
      "dtypes: int64(1), object(1)\n",
      "memory usage: 324.4+ KB\n"
     ]
    }
   ],
   "source": [
    "# Let's check the info of the dataset\n",
    "df.info()"
   ]
  },
  {
   "cell_type": "markdown",
   "id": "1ad223e1",
   "metadata": {},
   "source": [
    "It is observed that the information we can say that there are no null values present in the dataset and all the columns are of object data type which means all the entries are string entries."
   ]
  },
  {
   "cell_type": "code",
   "execution_count": 21,
   "id": "ed562bce",
   "metadata": {},
   "outputs": [
    {
     "name": "stdout",
     "output_type": "stream",
     "text": [
      "Null values in the dataset: \n",
      " Reiew_Text    0\n",
      "Ratings       0\n",
      "dtype: int64\n"
     ]
    }
   ],
   "source": [
    "# Checking for null values\n",
    "print(\"Null values in the dataset: \\n\", df.isnull().sum())"
   ]
  },
  {
   "cell_type": "markdown",
   "id": "ce9202aa",
   "metadata": {},
   "source": [
    "There is no null values present in dataset."
   ]
  },
  {
   "cell_type": "code",
   "execution_count": 23,
   "id": "bdbd762f",
   "metadata": {},
   "outputs": [
    {
     "data": {
      "text/plain": [
       "5    13010\n",
       "4     3874\n",
       "1     2117\n",
       "3     1264\n",
       "2      486\n",
       "Name: Ratings, dtype: int64"
      ]
     },
     "execution_count": 23,
     "metadata": {},
     "output_type": "execute_result"
    }
   ],
   "source": [
    "#Checking the value counts of Ratings column\n",
    "df.Ratings.value_counts()"
   ]
  },
  {
   "cell_type": "markdown",
   "id": "d7a0fcee",
   "metadata": {},
   "source": [
    "Since the highes count in Ratings column is for 5 followed by 5.0 out of 5 stars."
   ]
  },
  {
   "cell_type": "markdown",
   "id": "11bfd9e1",
   "metadata": {},
   "source": [
    "# Let's have a look into target column:"
   ]
  },
  {
   "cell_type": "code",
   "execution_count": 27,
   "id": "85a6b188",
   "metadata": {},
   "outputs": [
    {
     "data": {
      "text/plain": [
       "array([5, 4, 2, 1, 3], dtype=int64)"
      ]
     },
     "execution_count": 27,
     "metadata": {},
     "output_type": "execute_result"
    }
   ],
   "source": [
    "# Checking the unique value count of target column\n",
    "df['Ratings'].unique()"
   ]
  },
  {
   "cell_type": "code",
   "execution_count": 28,
   "id": "304c4b23",
   "metadata": {
    "scrolled": true
   },
   "outputs": [
    {
     "data": {
      "text/plain": [
       "<AxesSubplot:xlabel='Ratings', ylabel='count'>"
      ]
     },
     "execution_count": 28,
     "metadata": {},
     "output_type": "execute_result"
    },
    {
     "data": {
      "image/png": "[encoded data removed]",
      "text/plain": [
       "<Figure size 849.6x595.44 with 1 Axes>"
      ]
     },
     "metadata": {},
     "output_type": "display_data"
    }
   ],
   "source": [
    "sns.countplot(data=df,x='Ratings')"
   ]
  },
  {
   "cell_type": "markdown",
   "id": "94536cfd",
   "metadata": {},
   "source": [
    "Here we can see that most of the users has rated the products as highest 5 star & minimum 1 star.We can see that our target variable is imabalanced hence we need to balance it with the help of SMOTE technique."
   ]
  },
  {
   "cell_type": "code",
   "execution_count": 29,
   "id": "044082a6",
   "metadata": {},
   "outputs": [],
   "source": [
    "df[\"review_length\"]=df[\"Reiew_Text\"].str.len()"
   ]
  },
  {
   "cell_type": "code",
   "execution_count": 30,
   "id": "bab67c5a",
   "metadata": {},
   "outputs": [
    {
     "data": {
      "text/plain": [
       "<AxesSubplot:xlabel='review_length', ylabel='Ratings'>"
      ]
     },
     "execution_count": 30,
     "metadata": {},
     "output_type": "execute_result"
    },
    {
     "data": {
      "image/png": "[encoded data removed]",
      "text/plain": [
       "<Figure size 849.6x595.44 with 1 Axes>"
      ]
     },
     "metadata": {},
     "output_type": "display_data"
    }
   ],
   "source": [
    "sns.scatterplot(data=df,x=\"review_length\",y=\"Ratings\")"
   ]
  },
  {
   "cell_type": "code",
   "execution_count": 32,
   "id": "e57408d8",
   "metadata": {},
   "outputs": [
    {
     "name": "stderr",
     "output_type": "stream",
     "text": [
      "[nltk_data] Downloading package stopwords to\n",
      "[nltk_data]     C:\\Users\\ASUS\\AppData\\Roaming\\nltk_data...\n",
      "[nltk_data]   Package stopwords is already up-to-date!\n"
     ]
    }
   ],
   "source": [
    "import nltk\n",
    "from nltk.corpus import stopwords\n",
    "nltk.download('stopwords')\n",
    "stopwords = stopwords.words('english')"
   ]
  },
  {
   "cell_type": "code",
   "execution_count": 33,
   "id": "32bfb8ba",
   "metadata": {},
   "outputs": [],
   "source": [
    "from nltk.stem import WordNetLemmatizer\n",
    "lemmatizer = WordNetLemmatizer()\n",
    "from nltk.corpus import stopwords\n",
    "stop = stopwords.words('english')\n",
    "from sklearn.feature_extraction.text import TfidfVectorizer\n",
    "from imblearn.over_sampling import SMOTE\n",
    "smote = SMOTE()"
   ]
  },
  {
   "cell_type": "code",
   "execution_count": 34,
   "id": "0e644634",
   "metadata": {},
   "outputs": [
    {
     "data": {
      "text/html": [
       "<div>\n",
       "<style scoped>\n",
       "    .dataframe tbody tr th:only-of-type {\n",
       "        vertical-align: middle;\n",
       "    }\n",
       "\n",
       "    .dataframe tbody tr th {\n",
       "        vertical-align: top;\n",
       "    }\n",
       "\n",
       "    .dataframe thead th {\n",
       "        text-align: right;\n",
       "    }\n",
       "</style>\n",
       "<table border=\"1\" class=\"dataframe\">\n",
       "  <thead>\n",
       "    <tr style=\"text-align: right;\">\n",
       "      <th></th>\n",
       "      <th>Reiew_Text</th>\n",
       "      <th>Ratings</th>\n",
       "      <th>review_length</th>\n",
       "      <th>Cleaned_review</th>\n",
       "    </tr>\n",
       "  </thead>\n",
       "  <tbody>\n",
       "    <tr>\n",
       "      <th>0</th>\n",
       "      <td>Beautiful laptop with affordable price at flip...</td>\n",
       "      <td>5</td>\n",
       "      <td>487</td>\n",
       "      <td>beautiful laptop with affordable price at flip...</td>\n",
       "    </tr>\n",
       "    <tr>\n",
       "      <th>1</th>\n",
       "      <td>Absolutely Satisfied by the product . Speciall...</td>\n",
       "      <td>5</td>\n",
       "      <td>510</td>\n",
       "      <td>absolutely satisfied by the product . speciall...</td>\n",
       "    </tr>\n",
       "    <tr>\n",
       "      <th>2</th>\n",
       "      <td>Amazing laptop.\\ncreater laptop.\\nMid range ga...</td>\n",
       "      <td>5</td>\n",
       "      <td>509</td>\n",
       "      <td>amazing laptop. creater laptop. mid range gami...</td>\n",
       "    </tr>\n",
       "    <tr>\n",
       "      <th>3</th>\n",
       "      <td>Laptop is all good. I got it for 72990. If you...</td>\n",
       "      <td>5</td>\n",
       "      <td>508</td>\n",
       "      <td>laptop is all good. i got it for 72990. if you...</td>\n",
       "    </tr>\n",
       "    <tr>\n",
       "      <th>4</th>\n",
       "      <td>Good for office work, productivity works and c...</td>\n",
       "      <td>5</td>\n",
       "      <td>509</td>\n",
       "      <td>good for office work, productivity works and c...</td>\n",
       "    </tr>\n",
       "    <tr>\n",
       "      <th>...</th>\n",
       "      <td>...</td>\n",
       "      <td>...</td>\n",
       "      <td>...</td>\n",
       "      <td>...</td>\n",
       "    </tr>\n",
       "    <tr>\n",
       "      <th>20746</th>\n",
       "      <td>Product is good for the price but have mainly ...</td>\n",
       "      <td>4</td>\n",
       "      <td>280</td>\n",
       "      <td>product is good for the price but have mainly ...</td>\n",
       "    </tr>\n",
       "    <tr>\n",
       "      <th>20747</th>\n",
       "      <td>Awesome, purchased it and did not regret a bit</td>\n",
       "      <td>5</td>\n",
       "      <td>46</td>\n",
       "      <td>awesome, purchased it and did not regret a bit</td>\n",
       "    </tr>\n",
       "    <tr>\n",
       "      <th>20748</th>\n",
       "      <td>Display quality is very good budget gaming mon...</td>\n",
       "      <td>5</td>\n",
       "      <td>51</td>\n",
       "      <td>display quality is very good budget gaming mon...</td>\n",
       "    </tr>\n",
       "    <tr>\n",
       "      <th>20749</th>\n",
       "      <td>Awesome, purchased it and did not regret a bit</td>\n",
       "      <td>5</td>\n",
       "      <td>46</td>\n",
       "      <td>awesome, purchased it and did not regret a bit</td>\n",
       "    </tr>\n",
       "    <tr>\n",
       "      <th>20750</th>\n",
       "      <td>Display quality is very good budget gaming mon...</td>\n",
       "      <td>5</td>\n",
       "      <td>51</td>\n",
       "      <td>display quality is very good budget gaming mon...</td>\n",
       "    </tr>\n",
       "  </tbody>\n",
       "</table>\n",
       "<p>20751 rows × 4 columns</p>\n",
       "</div>"
      ],
      "text/plain": [
       "                                              Reiew_Text  Ratings  \\\n",
       "0      Beautiful laptop with affordable price at flip...        5   \n",
       "1      Absolutely Satisfied by the product . Speciall...        5   \n",
       "2      Amazing laptop.\\ncreater laptop.\\nMid range ga...        5   \n",
       "3      Laptop is all good. I got it for 72990. If you...        5   \n",
       "4      Good for office work, productivity works and c...        5   \n",
       "...                                                  ...      ...   \n",
       "20746  Product is good for the price but have mainly ...        4   \n",
       "20747     Awesome, purchased it and did not regret a bit        5   \n",
       "20748  Display quality is very good budget gaming mon...        5   \n",
       "20749     Awesome, purchased it and did not regret a bit        5   \n",
       "20750  Display quality is very good budget gaming mon...        5   \n",
       "\n",
       "       review_length                                     Cleaned_review  \n",
       "0                487  beautiful laptop with affordable price at flip...  \n",
       "1                510  absolutely satisfied by the product . speciall...  \n",
       "2                509  amazing laptop. creater laptop. mid range gami...  \n",
       "3                508  laptop is all good. i got it for 72990. if you...  \n",
       "4                509  good for office work, productivity works and c...  \n",
       "...              ...                                                ...  \n",
       "20746            280  product is good for the price but have mainly ...  \n",
       "20747             46     awesome, purchased it and did not regret a bit  \n",
       "20748             51  display quality is very good budget gaming mon...  \n",
       "20749             46     awesome, purchased it and did not regret a bit  \n",
       "20750             51  display quality is very good budget gaming mon...  \n",
       "\n",
       "[20751 rows x 4 columns]"
      ]
     },
     "execution_count": 34,
     "metadata": {},
     "output_type": "execute_result"
    }
   ],
   "source": [
    "#converting reviews to lowercase\n",
    "df['Cleaned_review']=df['Reiew_Text'].apply(lambda x:\" \".join(x.lower() for x in x.split()))\n",
    "df"
   ]
  },
  {
   "cell_type": "code",
   "execution_count": 37,
   "id": "649e166d",
   "metadata": {},
   "outputs": [
    {
     "data": {
      "text/html": [
       "<div>\n",
       "<style scoped>\n",
       "    .dataframe tbody tr th:only-of-type {\n",
       "        vertical-align: middle;\n",
       "    }\n",
       "\n",
       "    .dataframe tbody tr th {\n",
       "        vertical-align: top;\n",
       "    }\n",
       "\n",
       "    .dataframe thead th {\n",
       "        text-align: right;\n",
       "    }\n",
       "</style>\n",
       "<table border=\"1\" class=\"dataframe\">\n",
       "  <thead>\n",
       "    <tr style=\"text-align: right;\">\n",
       "      <th></th>\n",
       "      <th>Reiew_Text</th>\n",
       "      <th>Ratings</th>\n",
       "      <th>review_length</th>\n",
       "      <th>Cleaned_review</th>\n",
       "    </tr>\n",
       "  </thead>\n",
       "  <tbody>\n",
       "    <tr>\n",
       "      <th>0</th>\n",
       "      <td>Beautiful laptop with affordable price at flip...</td>\n",
       "      <td>5</td>\n",
       "      <td>487</td>\n",
       "      <td>beautiful laptop with affordable price at flip...</td>\n",
       "    </tr>\n",
       "    <tr>\n",
       "      <th>1</th>\n",
       "      <td>Absolutely Satisfied by the product . Speciall...</td>\n",
       "      <td>5</td>\n",
       "      <td>510</td>\n",
       "      <td>absolutely satisfied by the product  specially...</td>\n",
       "    </tr>\n",
       "    <tr>\n",
       "      <th>2</th>\n",
       "      <td>Amazing laptop.\\ncreater laptop.\\nMid range ga...</td>\n",
       "      <td>5</td>\n",
       "      <td>509</td>\n",
       "      <td>amazing laptop creater laptop mid range gaming...</td>\n",
       "    </tr>\n",
       "    <tr>\n",
       "      <th>3</th>\n",
       "      <td>Laptop is all good. I got it for 72990. If you...</td>\n",
       "      <td>5</td>\n",
       "      <td>508</td>\n",
       "      <td>laptop is all good i got it for 72990 if youre...</td>\n",
       "    </tr>\n",
       "    <tr>\n",
       "      <th>4</th>\n",
       "      <td>Good for office work, productivity works and c...</td>\n",
       "      <td>5</td>\n",
       "      <td>509</td>\n",
       "      <td>good for office work productivity works and ca...</td>\n",
       "    </tr>\n",
       "  </tbody>\n",
       "</table>\n",
       "</div>"
      ],
      "text/plain": [
       "                                          Reiew_Text  Ratings  review_length  \\\n",
       "0  Beautiful laptop with affordable price at flip...        5            487   \n",
       "1  Absolutely Satisfied by the product . Speciall...        5            510   \n",
       "2  Amazing laptop.\\ncreater laptop.\\nMid range ga...        5            509   \n",
       "3  Laptop is all good. I got it for 72990. If you...        5            508   \n",
       "4  Good for office work, productivity works and c...        5            509   \n",
       "\n",
       "                                      Cleaned_review  \n",
       "0  beautiful laptop with affordable price at flip...  \n",
       "1  absolutely satisfied by the product  specially...  \n",
       "2  amazing laptop creater laptop mid range gaming...  \n",
       "3  laptop is all good i got it for 72990 if youre...  \n",
       "4  good for office work productivity works and ca...  "
      ]
     },
     "execution_count": 37,
     "metadata": {},
     "output_type": "execute_result"
    }
   ],
   "source": [
    "# remove punctuation from cleaned review column\n",
    "df['Cleaned_review'] = df['Cleaned_review'].str.replace('[^\\w\\s]','')\n",
    "df.head()"
   ]
  },
  {
   "cell_type": "code",
   "execution_count": 39,
   "id": "168dd0ee",
   "metadata": {},
   "outputs": [
    {
     "data": {
      "text/html": [
       "<div>\n",
       "<style scoped>\n",
       "    .dataframe tbody tr th:only-of-type {\n",
       "        vertical-align: middle;\n",
       "    }\n",
       "\n",
       "    .dataframe tbody tr th {\n",
       "        vertical-align: top;\n",
       "    }\n",
       "\n",
       "    .dataframe thead th {\n",
       "        text-align: right;\n",
       "    }\n",
       "</style>\n",
       "<table border=\"1\" class=\"dataframe\">\n",
       "  <thead>\n",
       "    <tr style=\"text-align: right;\">\n",
       "      <th></th>\n",
       "      <th>Reiew_Text</th>\n",
       "      <th>Ratings</th>\n",
       "      <th>review_length</th>\n",
       "      <th>Cleaned_review</th>\n",
       "    </tr>\n",
       "  </thead>\n",
       "  <tbody>\n",
       "    <tr>\n",
       "      <th>0</th>\n",
       "      <td>Beautiful laptop with affordable price at flip...</td>\n",
       "      <td>5</td>\n",
       "      <td>487</td>\n",
       "      <td>beautiful laptop with affordable price at flip...</td>\n",
       "    </tr>\n",
       "    <tr>\n",
       "      <th>1</th>\n",
       "      <td>Absolutely Satisfied by the product . Speciall...</td>\n",
       "      <td>5</td>\n",
       "      <td>510</td>\n",
       "      <td>absolutely satisfied by the product  specially...</td>\n",
       "    </tr>\n",
       "    <tr>\n",
       "      <th>2</th>\n",
       "      <td>Amazing laptop.\\ncreater laptop.\\nMid range ga...</td>\n",
       "      <td>5</td>\n",
       "      <td>509</td>\n",
       "      <td>amazing laptop creater laptop mid range gaming...</td>\n",
       "    </tr>\n",
       "    <tr>\n",
       "      <th>3</th>\n",
       "      <td>Laptop is all good. I got it for 72990. If you...</td>\n",
       "      <td>5</td>\n",
       "      <td>508</td>\n",
       "      <td>laptop is all good i got it for  if youre gett...</td>\n",
       "    </tr>\n",
       "    <tr>\n",
       "      <th>4</th>\n",
       "      <td>Good for office work, productivity works and c...</td>\n",
       "      <td>5</td>\n",
       "      <td>509</td>\n",
       "      <td>good for office work productivity works and ca...</td>\n",
       "    </tr>\n",
       "  </tbody>\n",
       "</table>\n",
       "</div>"
      ],
      "text/plain": [
       "                                          Reiew_Text  Ratings  review_length  \\\n",
       "0  Beautiful laptop with affordable price at flip...        5            487   \n",
       "1  Absolutely Satisfied by the product . Speciall...        5            510   \n",
       "2  Amazing laptop.\\ncreater laptop.\\nMid range ga...        5            509   \n",
       "3  Laptop is all good. I got it for 72990. If you...        5            508   \n",
       "4  Good for office work, productivity works and c...        5            509   \n",
       "\n",
       "                                      Cleaned_review  \n",
       "0  beautiful laptop with affordable price at flip...  \n",
       "1  absolutely satisfied by the product  specially...  \n",
       "2  amazing laptop creater laptop mid range gaming...  \n",
       "3  laptop is all good i got it for  if youre gett...  \n",
       "4  good for office work productivity works and ca...  "
      ]
     },
     "execution_count": 39,
     "metadata": {},
     "output_type": "execute_result"
    }
   ],
   "source": [
    "# remove digits from cleaned review column\n",
    "df['Cleaned_review'] = df['Cleaned_review'].str.replace('\\d+','')\n",
    "df.head()"
   ]
  },
  {
   "cell_type": "code",
   "execution_count": 40,
   "id": "ad1d5ca0",
   "metadata": {},
   "outputs": [],
   "source": [
    "#nltk.download('wordnet')"
   ]
  },
  {
   "cell_type": "code",
   "execution_count": 41,
   "id": "96da4ade",
   "metadata": {},
   "outputs": [
    {
     "data": {
      "text/html": [
       "<div>\n",
       "<style scoped>\n",
       "    .dataframe tbody tr th:only-of-type {\n",
       "        vertical-align: middle;\n",
       "    }\n",
       "\n",
       "    .dataframe tbody tr th {\n",
       "        vertical-align: top;\n",
       "    }\n",
       "\n",
       "    .dataframe thead th {\n",
       "        text-align: right;\n",
       "    }\n",
       "</style>\n",
       "<table border=\"1\" class=\"dataframe\">\n",
       "  <thead>\n",
       "    <tr style=\"text-align: right;\">\n",
       "      <th></th>\n",
       "      <th>Reiew_Text</th>\n",
       "      <th>Ratings</th>\n",
       "      <th>review_length</th>\n",
       "      <th>Cleaned_review</th>\n",
       "    </tr>\n",
       "  </thead>\n",
       "  <tbody>\n",
       "    <tr>\n",
       "      <th>0</th>\n",
       "      <td>Beautiful laptop with affordable price at flip...</td>\n",
       "      <td>5</td>\n",
       "      <td>487</td>\n",
       "      <td>beautiful laptop with affordable price at flip...</td>\n",
       "    </tr>\n",
       "    <tr>\n",
       "      <th>1</th>\n",
       "      <td>Absolutely Satisfied by the product . Speciall...</td>\n",
       "      <td>5</td>\n",
       "      <td>510</td>\n",
       "      <td>absolutely satisfied by the product  specially...</td>\n",
       "    </tr>\n",
       "    <tr>\n",
       "      <th>2</th>\n",
       "      <td>Amazing laptop.\\ncreater laptop.\\nMid range ga...</td>\n",
       "      <td>5</td>\n",
       "      <td>509</td>\n",
       "      <td>amazing laptop creater laptop mid range gaming...</td>\n",
       "    </tr>\n",
       "    <tr>\n",
       "      <th>3</th>\n",
       "      <td>Laptop is all good. I got it for 72990. If you...</td>\n",
       "      <td>5</td>\n",
       "      <td>508</td>\n",
       "      <td>laptop is all good i got it for  if youre gett...</td>\n",
       "    </tr>\n",
       "    <tr>\n",
       "      <th>4</th>\n",
       "      <td>Good for office work, productivity works and c...</td>\n",
       "      <td>5</td>\n",
       "      <td>509</td>\n",
       "      <td>good for office work productivity works and ca...</td>\n",
       "    </tr>\n",
       "  </tbody>\n",
       "</table>\n",
       "</div>"
      ],
      "text/plain": [
       "                                          Reiew_Text  Ratings  review_length  \\\n",
       "0  Beautiful laptop with affordable price at flip...        5            487   \n",
       "1  Absolutely Satisfied by the product . Speciall...        5            510   \n",
       "2  Amazing laptop.\\ncreater laptop.\\nMid range ga...        5            509   \n",
       "3  Laptop is all good. I got it for 72990. If you...        5            508   \n",
       "4  Good for office work, productivity works and c...        5            509   \n",
       "\n",
       "                                      Cleaned_review  \n",
       "0  beautiful laptop with affordable price at flip...  \n",
       "1  absolutely satisfied by the product  specially...  \n",
       "2  amazing laptop creater laptop mid range gaming...  \n",
       "3  laptop is all good i got it for  if youre gett...  \n",
       "4  good for office work productivity works and ca...  "
      ]
     },
     "execution_count": 41,
     "metadata": {},
     "output_type": "execute_result"
    }
   ],
   "source": [
    "df['Cleaned_review']=[lemmatizer.lemmatize(x) for x in df['Cleaned_review']]\n",
    "df.head()"
   ]
  },
  {
   "cell_type": "code",
   "execution_count": 42,
   "id": "84fbed1a",
   "metadata": {},
   "outputs": [
    {
     "data": {
      "text/html": [
       "<div>\n",
       "<style scoped>\n",
       "    .dataframe tbody tr th:only-of-type {\n",
       "        vertical-align: middle;\n",
       "    }\n",
       "\n",
       "    .dataframe tbody tr th {\n",
       "        vertical-align: top;\n",
       "    }\n",
       "\n",
       "    .dataframe thead th {\n",
       "        text-align: right;\n",
       "    }\n",
       "</style>\n",
       "<table border=\"1\" class=\"dataframe\">\n",
       "  <thead>\n",
       "    <tr style=\"text-align: right;\">\n",
       "      <th></th>\n",
       "      <th>Reiew_Text</th>\n",
       "      <th>Ratings</th>\n",
       "      <th>review_length</th>\n",
       "      <th>Cleaned_review</th>\n",
       "      <th>Cleaned_review_length</th>\n",
       "    </tr>\n",
       "  </thead>\n",
       "  <tbody>\n",
       "    <tr>\n",
       "      <th>0</th>\n",
       "      <td>Beautiful laptop with affordable price at flip...</td>\n",
       "      <td>5</td>\n",
       "      <td>487</td>\n",
       "      <td>beautiful laptop with affordable price at flip...</td>\n",
       "      <td>467</td>\n",
       "    </tr>\n",
       "    <tr>\n",
       "      <th>1</th>\n",
       "      <td>Absolutely Satisfied by the product . Speciall...</td>\n",
       "      <td>5</td>\n",
       "      <td>510</td>\n",
       "      <td>absolutely satisfied by the product  specially...</td>\n",
       "      <td>458</td>\n",
       "    </tr>\n",
       "    <tr>\n",
       "      <th>2</th>\n",
       "      <td>Amazing laptop.\\ncreater laptop.\\nMid range ga...</td>\n",
       "      <td>5</td>\n",
       "      <td>509</td>\n",
       "      <td>amazing laptop creater laptop mid range gaming...</td>\n",
       "      <td>442</td>\n",
       "    </tr>\n",
       "    <tr>\n",
       "      <th>3</th>\n",
       "      <td>Laptop is all good. I got it for 72990. If you...</td>\n",
       "      <td>5</td>\n",
       "      <td>508</td>\n",
       "      <td>laptop is all good i got it for  if youre gett...</td>\n",
       "      <td>469</td>\n",
       "    </tr>\n",
       "    <tr>\n",
       "      <th>4</th>\n",
       "      <td>Good for office work, productivity works and c...</td>\n",
       "      <td>5</td>\n",
       "      <td>509</td>\n",
       "      <td>good for office work productivity works and ca...</td>\n",
       "      <td>482</td>\n",
       "    </tr>\n",
       "  </tbody>\n",
       "</table>\n",
       "</div>"
      ],
      "text/plain": [
       "                                          Reiew_Text  Ratings  review_length  \\\n",
       "0  Beautiful laptop with affordable price at flip...        5            487   \n",
       "1  Absolutely Satisfied by the product . Speciall...        5            510   \n",
       "2  Amazing laptop.\\ncreater laptop.\\nMid range ga...        5            509   \n",
       "3  Laptop is all good. I got it for 72990. If you...        5            508   \n",
       "4  Good for office work, productivity works and c...        5            509   \n",
       "\n",
       "                                      Cleaned_review  Cleaned_review_length  \n",
       "0  beautiful laptop with affordable price at flip...                    467  \n",
       "1  absolutely satisfied by the product  specially...                    458  \n",
       "2  amazing laptop creater laptop mid range gaming...                    442  \n",
       "3  laptop is all good i got it for  if youre gett...                    469  \n",
       "4  good for office work productivity works and ca...                    482  "
      ]
     },
     "execution_count": 42,
     "metadata": {},
     "output_type": "execute_result"
    }
   ],
   "source": [
    "df[\"Cleaned_review_length\"]=df[\"Cleaned_review\"].str.len()\n",
    "df.head()"
   ]
  },
  {
   "cell_type": "code",
   "execution_count": 43,
   "id": "c57de20d",
   "metadata": {},
   "outputs": [],
   "source": [
    "t_vec=TfidfVectorizer()\n",
    "feature=t_vec.fit_transform(df['Cleaned_review'])\n",
    "\n",
    "x=feature\n",
    "y=df['Ratings']"
   ]
  },
  {
   "cell_type": "code",
   "execution_count": 44,
   "id": "1f66e3c1",
   "metadata": {},
   "outputs": [
    {
     "data": {
      "text/plain": [
       "(20751, 7914)"
      ]
     },
     "execution_count": 44,
     "metadata": {},
     "output_type": "execute_result"
    }
   ],
   "source": [
    "x.shape"
   ]
  },
  {
   "cell_type": "code",
   "execution_count": 45,
   "id": "bdf0a282",
   "metadata": {},
   "outputs": [
    {
     "name": "stdout",
     "output_type": "stream",
     "text": [
      "(20751, 7914)\n",
      "(20751,)\n",
      "(65050, 7914)\n",
      "(65050,)\n"
     ]
    }
   ],
   "source": [
    "x_smote,y_smote=smote.fit_resample(x,y)\n",
    "print(x.shape)\n",
    "print(y.shape)\n",
    "print(x_smote.shape)\n",
    "print(y_smote.shape)"
   ]
  },
  {
   "cell_type": "code",
   "execution_count": 46,
   "id": "114e6db9",
   "metadata": {},
   "outputs": [
    {
     "data": {
      "text/plain": [
       "1    13010\n",
       "2    13010\n",
       "3    13010\n",
       "4    13010\n",
       "5    13010\n",
       "Name: Ratings, dtype: int64"
      ]
     },
     "execution_count": 46,
     "metadata": {},
     "output_type": "execute_result"
    }
   ],
   "source": [
    "y_smote.value_counts()"
   ]
  },
  {
   "cell_type": "code",
   "execution_count": 50,
   "id": "aaf56716",
   "metadata": {},
   "outputs": [],
   "source": [
    "x=x_smote.toarray()"
   ]
  },
  {
   "cell_type": "code",
   "execution_count": 51,
   "id": "2aac2393",
   "metadata": {},
   "outputs": [],
   "source": [
    "# split train and test data\n",
    "from sklearn.model_selection import train_test_split\n",
    "x_train,x_test,y_train,y_test = train_test_split(x,y_smote,test_size=0.10,random_state=42)"
   ]
  },
  {
   "cell_type": "code",
   "execution_count": 52,
   "id": "074abcc0",
   "metadata": {
    "scrolled": false
   },
   "outputs": [
    {
     "name": "stdout",
     "output_type": "stream",
     "text": [
      "Accuracy of LogisticRegression() is:\n",
      "Accuracy of training model is: 0.8585532496370314\n",
      "Accuracy Score: 83.90468870099923\n",
      "Confusion matrix: \n",
      " [[1161   68   22    4   12]\n",
      " [  47 1271   11    5   10]\n",
      " [  22   31 1109   48   53]\n",
      " [   8   10  114  920  258]\n",
      " [   9    2  113  200  997]]\n",
      "Classification report: \n",
      "               precision    recall  f1-score   support\n",
      "\n",
      "           1       0.93      0.92      0.92      1267\n",
      "           2       0.92      0.95      0.93      1344\n",
      "           3       0.81      0.88      0.84      1263\n",
      "           4       0.78      0.70      0.74      1310\n",
      "           5       0.75      0.75      0.75      1321\n",
      "\n",
      "    accuracy                           0.84      6505\n",
      "   macro avg       0.84      0.84      0.84      6505\n",
      "weighted avg       0.84      0.84      0.84      6505\n",
      "\n",
      "************************************************************\n",
      "\n",
      "\n",
      "Accuracy of DecisionTreeClassifier() is:\n",
      "Accuracy of training model is: 0.9535741737125288\n",
      "Accuracy Score: 90.80707148347426\n",
      "Confusion matrix: \n",
      " [[1216   25    9    8    9]\n",
      " [  20 1315    5    1    3]\n",
      " [  15   11 1182   32   23]\n",
      " [   9    3   93 1087  118]\n",
      " [   6    2   80  126 1107]]\n",
      "Classification report: \n",
      "               precision    recall  f1-score   support\n",
      "\n",
      "           1       0.96      0.96      0.96      1267\n",
      "           2       0.97      0.98      0.97      1344\n",
      "           3       0.86      0.94      0.90      1263\n",
      "           4       0.87      0.83      0.85      1310\n",
      "           5       0.88      0.84      0.86      1321\n",
      "\n",
      "    accuracy                           0.91      6505\n",
      "   macro avg       0.91      0.91      0.91      6505\n",
      "weighted avg       0.91      0.91      0.91      6505\n",
      "\n",
      "************************************************************\n",
      "\n",
      "\n",
      "Accuracy of MultinomialNB() is:\n",
      "Accuracy of training model is: 0.7827995558971731\n",
      "Accuracy Score: 77.55572636433513\n",
      "Confusion matrix: \n",
      " [[1078   92   69   11   17]\n",
      " [  94 1170   45    8   27]\n",
      " [  66   38  921   84  154]\n",
      " [  11   16   77  875  331]\n",
      " [   8    8   45  259 1001]]\n",
      "Classification report: \n",
      "               precision    recall  f1-score   support\n",
      "\n",
      "           1       0.86      0.85      0.85      1267\n",
      "           2       0.88      0.87      0.88      1344\n",
      "           3       0.80      0.73      0.76      1263\n",
      "           4       0.71      0.67      0.69      1310\n",
      "           5       0.65      0.76      0.70      1321\n",
      "\n",
      "    accuracy                           0.78      6505\n",
      "   macro avg       0.78      0.78      0.78      6505\n",
      "weighted avg       0.78      0.78      0.78      6505\n",
      "\n",
      "************************************************************\n",
      "\n",
      "\n"
     ]
    }
   ],
   "source": [
    "# our problem is classification type of problem.\n",
    "# import useful libraries for machine learning algorithms\n",
    "from sklearn.linear_model import LogisticRegression\n",
    "from sklearn.tree import DecisionTreeClassifier\n",
    "from sklearn.naive_bayes import MultinomialNB\n",
    "from sklearn.ensemble import RandomForestClassifier\n",
    "from sklearn.metrics import accuracy_score,confusion_matrix,classification_report\n",
    "\n",
    "model = [LogisticRegression(),DecisionTreeClassifier(),MultinomialNB()]\n",
    "\n",
    "for m in model:\n",
    "    m.fit(x_train,y_train)\n",
    "    train = m.score(x_train,y_train)\n",
    "    predm = m.predict(x_test)\n",
    "    print(\"Accuracy of\",m,\"is:\")\n",
    "    print(\"Accuracy of training model is:\",train)\n",
    "    print(\"Accuracy Score:\",accuracy_score(y_test,predm)*100)\n",
    "    print(\"Confusion matrix:\",\"\\n\",confusion_matrix(y_test,predm))\n",
    "    print(\"Classification report:\",\"\\n\",classification_report(y_test,predm))\n",
    "    print(\"************************************************************\")\n",
    "    print(\"\\n\")"
   ]
  },
  {
   "cell_type": "code",
   "execution_count": null,
   "id": "0d5f8d4e",
   "metadata": {},
   "outputs": [],
   "source": [
    "# Save best model\n",
    "import joblib\n",
    "joblib.dump(rf,\"rf_ratingprediction.pkl\")"
   ]
  },
  {
   "cell_type": "code",
   "execution_count": null,
   "id": "475da92d",
   "metadata": {},
   "outputs": [],
   "source": []
  }
 ],
 "metadata": {
  "kernelspec": {
   "display_name": "Python 3",
   "language": "python",
   "name": "python3"
  },
  "language_info": {
   "codemirror_mode": {
    "name": "ipython",
    "version": 3
   },
   "file_extension": ".py",
   "mimetype": "text/x-python",
   "name": "python",
   "nbconvert_exporter": "python",
   "pygments_lexer": "ipython3",
   "version": "3.8.8"
  }
 },
 "nbformat": 4,
 "nbformat_minor": 5
}
